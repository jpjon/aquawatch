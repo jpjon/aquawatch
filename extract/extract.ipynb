{
 "cells": [
  {
   "cell_type": "code",
   "execution_count": null,
   "metadata": {},
   "outputs": [],
   "source": [
    "import requests\n",
    "from datetime import date, timedelta\n",
    "\n",
    "# Base URL for the API\n",
    "base_url = \"https://fhab.sfei.org/lib/download.php\"\n",
    "\n",
    "# Parameters that don't change\n",
    "params = {\n",
    "    \"request\": \"download\",\n",
    "    \"dltype\": \"clipsingle\",\n",
    "    \"product\": \"cyano\",\n",
    "    \"composite\": \"max1day\",\n",
    "    \"lakename\": \"Clear Lake\"\n",
    "}\n",
    "\n",
    "# Start date for 2020\n",
    "start_date = date(2020, 6, 1)\n",
    "\n",
    "# End date for 2020\n",
    "end_date = date(2020, 12, 31)\n",
    "\n",
    "# Loop through each day in 2020 and download data\n",
    "current_date = start_date\n",
    "while current_date <= end_date:\n",
    "    params[\"year\"] = current_date.year\n",
    "    params[\"month\"] = current_date.month\n",
    "    params[\"day\"] = current_date.day\n",
    "\n",
    "    # Sending a GET request\n",
    "    response = requests.get(base_url, params=params)\n",
    "\n",
    "    if response.status_code == 200:\n",
    "        # Save the response content to a TIFF file\n",
    "        filename = f\"cyano_data_{current_date.strftime('%Y-%m-%d')}.tif\"\n",
    "        with open(filename, \"wb\") as file:\n",
    "            file.write(response.content)\n",
    "        print(f\"Downloaded data for {current_date}\")\n",
    "    else:\n",
    "        print(f\"Failed to download data for {current_date}\")\n",
    "\n",
    "    # Move to the next day\n",
    "    current_date += timedelta(days=1)\n"
   ]
  }
 ],
 "metadata": {
  "language_info": {
   "name": "python"
  },
  "orig_nbformat": 4
 },
 "nbformat": 4,
 "nbformat_minor": 2
}
