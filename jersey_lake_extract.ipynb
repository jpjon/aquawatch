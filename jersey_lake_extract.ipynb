{
 "cells": [
  {
   "cell_type": "markdown",
   "metadata": {},
   "source": [
    "### Query\n",
    "Query based on the levels of mytotoxin, get the query request that comes along with it.\n",
    "\n",
    "The query request contains the \"features\" key, each with an observation. Then, within each observation, we can access the \"attributes\" and get the \"objectid\".\n",
    "\n",
    "### Using objectid\n",
    "\n",
    "After getting all the available \"objectid's\" from the filter and storing them in an array, loop over them and get their \"attachmentInfos\", which is used in the code below."
   ]
  },
  {
   "cell_type": "markdown",
   "metadata": {},
   "source": [
    "### To-do\n",
    "\n",
    "Make a script that does the above and store the files in the four categories (Warnings, No advisory, etc.)"
   ]
  },
  {
   "cell_type": "code",
   "execution_count": 2,
   "metadata": {},
   "outputs": [
    {
     "name": "stdout",
     "output_type": "stream",
     "text": [
      "Downloaded: image1-20201215-180727.jpg\n",
      "Downloaded: image2-20201215-180735.jpg\n"
     ]
    }
   ],
   "source": [
    "import requests\n",
    "import os\n",
    "\n",
    "# URL of the JSON data containing attachmentInfos\n",
    "json_url = \"https://services1.arcgis.com/QWdNfRs7lkPq4g4Q/arcgis/rest/services/NJDEP_Production_HAB_Sampling_public/FeatureServer/0/373/attachments?f=json\"\n",
    "\n",
    "# Send an HTTP GET request to fetch the JSON data\n",
    "response = requests.get(json_url)\n",
    "\n",
    "if response.status_code == 200:\n",
    "    # Parse the JSON response\n",
    "    data = response.json()\n",
    "\n",
    "    # Create a directory to save the downloaded images\n",
    "    download_directory = \"downloaded_images/\"\n",
    "    os.makedirs(download_directory, exist_ok=True)\n",
    "\n",
    "    # Iterate through attachmentInfos and download each image\n",
    "    for attachment in data.get(\"attachmentInfos\", []):\n",
    "        attachment_url = f\"https://services1.arcgis.com/QWdNfRs7lkPq4g4Q/arcgis/rest/services/NJDEP_Production_HAB_Sampling_public/FeatureServer/0/373/attachments/{attachment['id']}\"\n",
    "        image_url = attachment_url + \"?f=image\"\n",
    "        \n",
    "        # Send an HTTP GET request to download the image\n",
    "        image_response = requests.get(image_url)\n",
    "\n",
    "        if image_response.status_code == 200:\n",
    "            # Get the filename from the 'name' field in attachmentInfos\n",
    "            filename = attachment[\"name\"]\n",
    "            \n",
    "            # Specify the full path for saving the image\n",
    "            save_path = os.path.join(download_directory, filename)\n",
    "\n",
    "            # Save the image to the specified path\n",
    "            with open(save_path, \"wb\") as f:\n",
    "                f.write(image_response.content)\n",
    "\n",
    "            print(f\"Downloaded: {filename}\")\n",
    "        else:\n",
    "            print(f\"Failed to download image. Status code: {image_response.status_code}\")\n",
    "else:\n",
    "    print(f\"Failed to fetch JSON data. Status code: {response.status_code}\")\n"
   ]
  },
  {
   "cell_type": "code",
   "execution_count": null,
   "metadata": {},
   "outputs": [],
   "source": []
  }
 ],
 "metadata": {
  "kernelspec": {
   "display_name": "brain2",
   "language": "python",
   "name": "python3"
  },
  "language_info": {
   "codemirror_mode": {
    "name": "ipython",
    "version": 3
   },
   "file_extension": ".py",
   "mimetype": "text/x-python",
   "name": "python",
   "nbconvert_exporter": "python",
   "pygments_lexer": "ipython3",
   "version": "3.9.16"
  }
 },
 "nbformat": 4,
 "nbformat_minor": 2
}
